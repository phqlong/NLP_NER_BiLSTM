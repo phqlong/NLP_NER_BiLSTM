{
  "nbformat": 4,
  "nbformat_minor": 0,
  "metadata": {
    "colab": {
      "name": "NER_BiLSTM.ipynb",
      "provenance": [],
      "collapsed_sections": []
    },
    "kernelspec": {
      "name": "python3",
      "display_name": "Python 3"
    },
    "language_info": {
      "name": "python"
    }
  },
  "cells": [
    {
      "cell_type": "markdown",
      "source": [
        "# Download dataset"
      ],
      "metadata": {
        "id": "ZrKIS319cM9Q"
      }
    },
    {
      "cell_type": "code",
      "source": [
        "with open(\"kaggle.json\", \"w\") as f: \n",
        "    f.write(\"\"\"{\"username\":\"quclongphan\",\"key\":\"d872fbcff24be69d93eecb5930088b19\"}\"\"\")"
      ],
      "metadata": {
        "id": "eCdMTO_kctnp"
      },
      "execution_count": 1,
      "outputs": []
    },
    {
      "cell_type": "code",
      "source": [
        "!pip install -q kaggle\n",
        "!mkdir -p ~/.kaggle\n",
        "!cp kaggle.json ~/.kaggle/\n",
        "'chmod 600 /root/.kaggle/kaggle.json'\n",
        "!kaggle datasets download -d abhinavwalia95/entity-annotated-corpus\n",
        "!unzip entity-annotated-corpus.zip\n",
        "!rm -r ./entity-annotated-corpus.zip"
      ],
      "metadata": {
        "id": "MdUkuIgkcnVu",
        "colab": {
          "base_uri": "https://localhost:8080/"
        },
        "outputId": "ad140673-7535-4a91-a610-160c53869e86"
      },
      "execution_count": 2,
      "outputs": [
        {
          "output_type": "stream",
          "name": "stdout",
          "text": [
            "Warning: Your Kaggle API key is readable by other users on this system! To fix this, you can run 'chmod 600 /root/.kaggle/kaggle.json'\n",
            "Downloading entity-annotated-corpus.zip to /content\n",
            " 87% 23.0M/26.4M [00:00<00:00, 54.7MB/s]\n",
            "100% 26.4M/26.4M [00:00<00:00, 70.5MB/s]\n",
            "Archive:  entity-annotated-corpus.zip\n",
            "  inflating: ner.csv                 \n",
            "  inflating: ner_dataset.csv         \n"
          ]
        }
      ]
    },
    {
      "cell_type": "code",
      "source": [
        "!pip install sklearn-crfsuite\n",
        "!pip install seqeval\n",
        "!pip show tensorflow"
      ],
      "metadata": {
        "id": "gjqDqZ5Kdsu3",
        "colab": {
          "base_uri": "https://localhost:8080/"
        },
        "outputId": "481412de-80b3-48ba-e40a-cfb21682ef52"
      },
      "execution_count": 3,
      "outputs": [
        {
          "output_type": "stream",
          "name": "stdout",
          "text": [
            "Collecting sklearn-crfsuite\n",
            "  Downloading sklearn_crfsuite-0.3.6-py2.py3-none-any.whl (12 kB)\n",
            "Requirement already satisfied: six in /usr/local/lib/python3.7/dist-packages (from sklearn-crfsuite) (1.15.0)\n",
            "Collecting python-crfsuite>=0.8.3\n",
            "  Downloading python_crfsuite-0.9.7-cp37-cp37m-manylinux1_x86_64.whl (743 kB)\n",
            "\u001b[K     |████████████████████████████████| 743 kB 5.1 MB/s \n",
            "\u001b[?25hRequirement already satisfied: tqdm>=2.0 in /usr/local/lib/python3.7/dist-packages (from sklearn-crfsuite) (4.62.3)\n",
            "Requirement already satisfied: tabulate in /usr/local/lib/python3.7/dist-packages (from sklearn-crfsuite) (0.8.9)\n",
            "Installing collected packages: python-crfsuite, sklearn-crfsuite\n",
            "Successfully installed python-crfsuite-0.9.7 sklearn-crfsuite-0.3.6\n",
            "Collecting seqeval\n",
            "  Downloading seqeval-1.2.2.tar.gz (43 kB)\n",
            "\u001b[K     |████████████████████████████████| 43 kB 1.3 MB/s \n",
            "\u001b[?25hRequirement already satisfied: numpy>=1.14.0 in /usr/local/lib/python3.7/dist-packages (from seqeval) (1.19.5)\n",
            "Requirement already satisfied: scikit-learn>=0.21.3 in /usr/local/lib/python3.7/dist-packages (from seqeval) (1.0.1)\n",
            "Requirement already satisfied: scipy>=1.1.0 in /usr/local/lib/python3.7/dist-packages (from scikit-learn>=0.21.3->seqeval) (1.4.1)\n",
            "Requirement already satisfied: joblib>=0.11 in /usr/local/lib/python3.7/dist-packages (from scikit-learn>=0.21.3->seqeval) (1.1.0)\n",
            "Requirement already satisfied: threadpoolctl>=2.0.0 in /usr/local/lib/python3.7/dist-packages (from scikit-learn>=0.21.3->seqeval) (3.0.0)\n",
            "Building wheels for collected packages: seqeval\n",
            "  Building wheel for seqeval (setup.py) ... \u001b[?25l\u001b[?25hdone\n",
            "  Created wheel for seqeval: filename=seqeval-1.2.2-py3-none-any.whl size=16181 sha256=7c946082812a1c5f8e7f28ae1c3f17e1a9e3e2b3cb3c6e7fbef7efd5aab3cdef\n",
            "  Stored in directory: /root/.cache/pip/wheels/05/96/ee/7cac4e74f3b19e3158dce26a20a1c86b3533c43ec72a549fd7\n",
            "Successfully built seqeval\n",
            "Installing collected packages: seqeval\n",
            "Successfully installed seqeval-1.2.2\n",
            "Name: tensorflow\n",
            "Version: 2.7.0\n",
            "Summary: TensorFlow is an open source machine learning framework for everyone.\n",
            "Home-page: https://www.tensorflow.org/\n",
            "Author: Google Inc.\n",
            "Author-email: packages@tensorflow.org\n",
            "License: Apache 2.0\n",
            "Location: /usr/local/lib/python3.7/dist-packages\n",
            "Requires: libclang, keras, tensorflow-io-gcs-filesystem, absl-py, grpcio, wrapt, six, termcolor, google-pasta, flatbuffers, protobuf, tensorflow-estimator, gast, wheel, keras-preprocessing, numpy, astunparse, tensorboard, h5py, opt-einsum, typing-extensions\n",
            "Required-by: kapre\n"
          ]
        }
      ]
    },
    {
      "cell_type": "markdown",
      "source": [
        "# Import Libraries"
      ],
      "metadata": {
        "id": "7xOBQ5Haf9jU"
      }
    },
    {
      "cell_type": "code",
      "source": [
        "import pandas as pd\n",
        "import numpy as np\n",
        "import os \n",
        "\n",
        "from tensorflow.keras.preprocessing.sequence import pad_sequences\n",
        "from tensorflow.keras.utils import to_categorical\n",
        "from tensorflow.keras.layers import LSTM, Dense, TimeDistributed, Embedding, Bidirectional, Input, Dropout\n",
        "from tensorflow.keras.models import Model, load_model\n",
        "from tensorflow.keras.callbacks import ModelCheckpoint, EarlyStopping \n",
        "\n",
        "from sklearn.model_selection import train_test_split\n",
        "from sklearn_crfsuite.metrics import flat_classification_report\n",
        "\n",
        "from seqeval.metrics import precision_score, recall_score, f1_score, classification_report\n"
      ],
      "metadata": {
        "id": "20flObgYf8aG"
      },
      "execution_count": 4,
      "outputs": []
    },
    {
      "cell_type": "markdown",
      "source": [
        "# Load Dataset"
      ],
      "metadata": {
        "id": "gD1e3Na5df2g"
      }
    },
    {
      "cell_type": "code",
      "source": [
        "def load_data(filename='./ner_dataset.csv'):\n",
        "    # Read CSV\n",
        "    df = pd.read_csv(filename, encoding = \"ISO-8859-1\", error_bad_lines=False)\n",
        "    \n",
        "    # Fill null cell by cell above => Mark all sentence col\n",
        "    df = df.fillna(method = 'ffill')\n",
        "    return df\n",
        "\n",
        "df = load_data()\n",
        "df"
      ],
      "metadata": {
        "colab": {
          "base_uri": "https://localhost:8080/",
          "height": 423
        },
        "id": "ZU7BHFXSd94e",
        "outputId": "e06be978-8e8a-4ac1-9f8d-ccbd7b63f06e"
      },
      "execution_count": 85,
      "outputs": [
        {
          "output_type": "execute_result",
          "data": {
            "text/html": [
              "\n",
              "  <div id=\"df-5193df41-8335-435d-8586-827eb615669c\">\n",
              "    <div class=\"colab-df-container\">\n",
              "      <div>\n",
              "<style scoped>\n",
              "    .dataframe tbody tr th:only-of-type {\n",
              "        vertical-align: middle;\n",
              "    }\n",
              "\n",
              "    .dataframe tbody tr th {\n",
              "        vertical-align: top;\n",
              "    }\n",
              "\n",
              "    .dataframe thead th {\n",
              "        text-align: right;\n",
              "    }\n",
              "</style>\n",
              "<table border=\"1\" class=\"dataframe\">\n",
              "  <thead>\n",
              "    <tr style=\"text-align: right;\">\n",
              "      <th></th>\n",
              "      <th>Sentence #</th>\n",
              "      <th>Word</th>\n",
              "      <th>POS</th>\n",
              "      <th>Tag</th>\n",
              "    </tr>\n",
              "  </thead>\n",
              "  <tbody>\n",
              "    <tr>\n",
              "      <th>0</th>\n",
              "      <td>Sentence: 1</td>\n",
              "      <td>Thousands</td>\n",
              "      <td>NNS</td>\n",
              "      <td>O</td>\n",
              "    </tr>\n",
              "    <tr>\n",
              "      <th>1</th>\n",
              "      <td>Sentence: 1</td>\n",
              "      <td>of</td>\n",
              "      <td>IN</td>\n",
              "      <td>O</td>\n",
              "    </tr>\n",
              "    <tr>\n",
              "      <th>2</th>\n",
              "      <td>Sentence: 1</td>\n",
              "      <td>demonstrators</td>\n",
              "      <td>NNS</td>\n",
              "      <td>O</td>\n",
              "    </tr>\n",
              "    <tr>\n",
              "      <th>3</th>\n",
              "      <td>Sentence: 1</td>\n",
              "      <td>have</td>\n",
              "      <td>VBP</td>\n",
              "      <td>O</td>\n",
              "    </tr>\n",
              "    <tr>\n",
              "      <th>4</th>\n",
              "      <td>Sentence: 1</td>\n",
              "      <td>marched</td>\n",
              "      <td>VBN</td>\n",
              "      <td>O</td>\n",
              "    </tr>\n",
              "    <tr>\n",
              "      <th>...</th>\n",
              "      <td>...</td>\n",
              "      <td>...</td>\n",
              "      <td>...</td>\n",
              "      <td>...</td>\n",
              "    </tr>\n",
              "    <tr>\n",
              "      <th>1048570</th>\n",
              "      <td>Sentence: 47959</td>\n",
              "      <td>they</td>\n",
              "      <td>PRP</td>\n",
              "      <td>O</td>\n",
              "    </tr>\n",
              "    <tr>\n",
              "      <th>1048571</th>\n",
              "      <td>Sentence: 47959</td>\n",
              "      <td>responded</td>\n",
              "      <td>VBD</td>\n",
              "      <td>O</td>\n",
              "    </tr>\n",
              "    <tr>\n",
              "      <th>1048572</th>\n",
              "      <td>Sentence: 47959</td>\n",
              "      <td>to</td>\n",
              "      <td>TO</td>\n",
              "      <td>O</td>\n",
              "    </tr>\n",
              "    <tr>\n",
              "      <th>1048573</th>\n",
              "      <td>Sentence: 47959</td>\n",
              "      <td>the</td>\n",
              "      <td>DT</td>\n",
              "      <td>O</td>\n",
              "    </tr>\n",
              "    <tr>\n",
              "      <th>1048574</th>\n",
              "      <td>Sentence: 47959</td>\n",
              "      <td>attack</td>\n",
              "      <td>NN</td>\n",
              "      <td>O</td>\n",
              "    </tr>\n",
              "  </tbody>\n",
              "</table>\n",
              "<p>1048575 rows × 4 columns</p>\n",
              "</div>\n",
              "      <button class=\"colab-df-convert\" onclick=\"convertToInteractive('df-5193df41-8335-435d-8586-827eb615669c')\"\n",
              "              title=\"Convert this dataframe to an interactive table.\"\n",
              "              style=\"display:none;\">\n",
              "        \n",
              "  <svg xmlns=\"http://www.w3.org/2000/svg\" height=\"24px\"viewBox=\"0 0 24 24\"\n",
              "       width=\"24px\">\n",
              "    <path d=\"M0 0h24v24H0V0z\" fill=\"none\"/>\n",
              "    <path d=\"M18.56 5.44l.94 2.06.94-2.06 2.06-.94-2.06-.94-.94-2.06-.94 2.06-2.06.94zm-11 1L8.5 8.5l.94-2.06 2.06-.94-2.06-.94L8.5 2.5l-.94 2.06-2.06.94zm10 10l.94 2.06.94-2.06 2.06-.94-2.06-.94-.94-2.06-.94 2.06-2.06.94z\"/><path d=\"M17.41 7.96l-1.37-1.37c-.4-.4-.92-.59-1.43-.59-.52 0-1.04.2-1.43.59L10.3 9.45l-7.72 7.72c-.78.78-.78 2.05 0 2.83L4 21.41c.39.39.9.59 1.41.59.51 0 1.02-.2 1.41-.59l7.78-7.78 2.81-2.81c.8-.78.8-2.07 0-2.86zM5.41 20L4 18.59l7.72-7.72 1.47 1.35L5.41 20z\"/>\n",
              "  </svg>\n",
              "      </button>\n",
              "      \n",
              "  <style>\n",
              "    .colab-df-container {\n",
              "      display:flex;\n",
              "      flex-wrap:wrap;\n",
              "      gap: 12px;\n",
              "    }\n",
              "\n",
              "    .colab-df-convert {\n",
              "      background-color: #E8F0FE;\n",
              "      border: none;\n",
              "      border-radius: 50%;\n",
              "      cursor: pointer;\n",
              "      display: none;\n",
              "      fill: #1967D2;\n",
              "      height: 32px;\n",
              "      padding: 0 0 0 0;\n",
              "      width: 32px;\n",
              "    }\n",
              "\n",
              "    .colab-df-convert:hover {\n",
              "      background-color: #E2EBFA;\n",
              "      box-shadow: 0px 1px 2px rgba(60, 64, 67, 0.3), 0px 1px 3px 1px rgba(60, 64, 67, 0.15);\n",
              "      fill: #174EA6;\n",
              "    }\n",
              "\n",
              "    [theme=dark] .colab-df-convert {\n",
              "      background-color: #3B4455;\n",
              "      fill: #D2E3FC;\n",
              "    }\n",
              "\n",
              "    [theme=dark] .colab-df-convert:hover {\n",
              "      background-color: #434B5C;\n",
              "      box-shadow: 0px 1px 3px 1px rgba(0, 0, 0, 0.15);\n",
              "      filter: drop-shadow(0px 1px 2px rgba(0, 0, 0, 0.3));\n",
              "      fill: #FFFFFF;\n",
              "    }\n",
              "  </style>\n",
              "\n",
              "      <script>\n",
              "        const buttonEl =\n",
              "          document.querySelector('#df-5193df41-8335-435d-8586-827eb615669c button.colab-df-convert');\n",
              "        buttonEl.style.display =\n",
              "          google.colab.kernel.accessAllowed ? 'block' : 'none';\n",
              "\n",
              "        async function convertToInteractive(key) {\n",
              "          const element = document.querySelector('#df-5193df41-8335-435d-8586-827eb615669c');\n",
              "          const dataTable =\n",
              "            await google.colab.kernel.invokeFunction('convertToInteractive',\n",
              "                                                     [key], {});\n",
              "          if (!dataTable) return;\n",
              "\n",
              "          const docLinkHtml = 'Like what you see? Visit the ' +\n",
              "            '<a target=\"_blank\" href=https://colab.research.google.com/notebooks/data_table.ipynb>data table notebook</a>'\n",
              "            + ' to learn more about interactive tables.';\n",
              "          element.innerHTML = '';\n",
              "          dataTable['output_type'] = 'display_data';\n",
              "          await google.colab.output.renderOutput(dataTable, element);\n",
              "          const docLink = document.createElement('div');\n",
              "          docLink.innerHTML = docLinkHtml;\n",
              "          element.appendChild(docLink);\n",
              "        }\n",
              "      </script>\n",
              "    </div>\n",
              "  </div>\n",
              "  "
            ],
            "text/plain": [
              "              Sentence #           Word  POS Tag\n",
              "0            Sentence: 1      Thousands  NNS   O\n",
              "1            Sentence: 1             of   IN   O\n",
              "2            Sentence: 1  demonstrators  NNS   O\n",
              "3            Sentence: 1           have  VBP   O\n",
              "4            Sentence: 1        marched  VBN   O\n",
              "...                  ...            ...  ...  ..\n",
              "1048570  Sentence: 47959           they  PRP   O\n",
              "1048571  Sentence: 47959      responded  VBD   O\n",
              "1048572  Sentence: 47959             to   TO   O\n",
              "1048573  Sentence: 47959            the   DT   O\n",
              "1048574  Sentence: 47959         attack   NN   O\n",
              "\n",
              "[1048575 rows x 4 columns]"
            ]
          },
          "metadata": {},
          "execution_count": 85
        }
      ]
    },
    {
      "cell_type": "code",
      "source": [
        "# All tag label for NER\n",
        "print('Number of tag for NER: ', len(df['Tag'].value_counts()))\n",
        "df['Tag'].value_counts()"
      ],
      "metadata": {
        "colab": {
          "base_uri": "https://localhost:8080/"
        },
        "id": "wtrGNDU8eW9Z",
        "outputId": "6125f1e0-10e9-40e8-e862-54a40caf6e90"
      },
      "execution_count": 86,
      "outputs": [
        {
          "output_type": "stream",
          "name": "stdout",
          "text": [
            "Number of tag for NER:  17\n"
          ]
        },
        {
          "output_type": "execute_result",
          "data": {
            "text/plain": [
              "O        887908\n",
              "B-geo     37644\n",
              "B-tim     20333\n",
              "B-org     20143\n",
              "I-per     17251\n",
              "B-per     16990\n",
              "I-org     16784\n",
              "B-gpe     15870\n",
              "I-geo      7414\n",
              "I-tim      6528\n",
              "B-art       402\n",
              "B-eve       308\n",
              "I-art       297\n",
              "I-eve       253\n",
              "B-nat       201\n",
              "I-gpe       198\n",
              "I-nat        51\n",
              "Name: Tag, dtype: int64"
            ]
          },
          "metadata": {},
          "execution_count": 86
        }
      ]
    },
    {
      "cell_type": "markdown",
      "source": [
        "# Preprocess Dataset"
      ],
      "metadata": {
        "id": "0opghcuDfCzW"
      }
    },
    {
      "cell_type": "code",
      "source": [
        "class sentence(object):\n",
        "    def __init__(self, df):\n",
        "        self.n_sent = 1\n",
        "        self.df = df\n",
        "        self.empty = False\n",
        "        agg = lambda s: [(w, p, t) for w, p, t in zip(s['Word'].values.tolist(),\n",
        "                                                      s['POS'].values.tolist(),\n",
        "                                                      s['Tag'].values.tolist())]\n",
        "\n",
        "        self.grouped = self.df.groupby(\"Sentence #\").apply(agg)\n",
        "        self.sentences = [s for s in self.grouped]"
      ],
      "metadata": {
        "id": "A_3qUD-0fBgo"
      },
      "execution_count": 87,
      "outputs": []
    },
    {
      "cell_type": "code",
      "source": [
        "sent = sentence(df)"
      ],
      "metadata": {
        "id": "nOM2RQqDiC-K"
      },
      "execution_count": 88,
      "outputs": []
    },
    {
      "cell_type": "code",
      "source": [
        "def process_data(df, sentences):\n",
        "    max_len = max(map(len, sentences))\n",
        "\n",
        "    # Xây dựng vocab cho word và tag\n",
        "    words = list(df['Word'].unique())\n",
        "    tags = list(df['Tag'].unique())\n",
        "\n",
        "    # Tạo dict word to index, thêm 2 từ đặc biệt là Unknow và Padding\n",
        "    word2idx = {w : i + 2 for i, w in enumerate(words)}\n",
        "    word2idx[\"UNK\"] = 1\n",
        "    word2idx[\"PAD\"] = 0\n",
        "\n",
        "    # Tạo dict tag to index, thêm 1 tag đặc biệt và Padding\n",
        "    tag2idx = {t : i + 1 for i, t in enumerate(tags)}\n",
        "    tag2idx[\"PAD\"] = 0\n",
        "\n",
        "    # Tạo 2 dict index to word và index to tag\n",
        "    idx2word = {i: w for w, i in word2idx.items()}\n",
        "    idx2tag = {i: w for w, i in tag2idx.items()}\n",
        "\n",
        "    # Chuyển các câu về dạng vector of index\n",
        "    X = [[word2idx[w[0]] for w in s] for s in sentences]\n",
        "    # Padding các câu về max_len\n",
        "    X = pad_sequences(maxlen = max_len, sequences = X, padding = \"post\", value = word2idx[\"PAD\"])\n",
        "    # Chuyển các tag về dạng index\n",
        "    y = [[tag2idx[w[2]] for w in s] for s in sentences]\n",
        "    # Tiền hành padding về max_len\n",
        "    y = pad_sequences(maxlen = max_len, sequences = y, padding = \"post\", value = tag2idx[\"PAD\"])\n",
        "\n",
        "    # Chuyển y về dạng one-hot\n",
        "    num_tag = df['Tag'].nunique()\n",
        "    y = [to_categorical(i, num_classes = num_tag + 1) for i in y]\n",
        "\n",
        "    X_train, X_test, y_train, y_test = train_test_split(X, y, test_size = 0.15)\n",
        "\n",
        "    # Save data\n",
        "    return X_train, X_test, y_train, y_test, word2idx, tag2idx, idx2word, idx2tag, num_tag, words, tags"
      ],
      "metadata": {
        "id": "cy_bnV36fI4R"
      },
      "execution_count": 89,
      "outputs": []
    },
    {
      "cell_type": "code",
      "source": [
        "x_train, x_test, y_train, y_test, word2idx, tag2idx, idx2word, idx2tag, num_tag, words, tags = process_data(df, sent.sentences)"
      ],
      "metadata": {
        "id": "v-wlhGaEh6da"
      },
      "execution_count": 90,
      "outputs": []
    },
    {
      "cell_type": "markdown",
      "source": [
        "# Build Model"
      ],
      "metadata": {
        "id": "LhVskmgDfOcT"
      }
    },
    {
      "cell_type": "code",
      "source": [
        "# Config\n",
        "max_len = max(map(len, sent.sentences))\n",
        "embedding = 40\n",
        "\n",
        "def build_model(num_tags, hidden_size = 50):\n",
        "    input = Input(shape=(max_len,))\n",
        "    embed = Embedding(input_dim=len(words) + 2, output_dim=embedding, input_length=max_len, mask_zero=False)(input)\n",
        "    embed = Dropout(0.1)(embed)\n",
        "    arch = Bidirectional(LSTM(units=hidden_size, return_sequences=True, recurrent_dropout=0.1))(embed)\n",
        "    output = TimeDistributed(Dense(num_tags + 1, activation=\"softmax\"))(arch)\n",
        "    \n",
        "    model = Model(input, output)\n",
        "    model.compile(optimizer = 'adam',loss = 'categorical_crossentropy',metrics = ['accuracy'])\n",
        "\n",
        "    model.summary()\n",
        "    return model"
      ],
      "metadata": {
        "id": "Vx8PRpbCfO-w"
      },
      "execution_count": 91,
      "outputs": []
    },
    {
      "cell_type": "markdown",
      "source": [
        "# Train model"
      ],
      "metadata": {
        "id": "JSCj9Evqi_GV"
      }
    },
    {
      "cell_type": "code",
      "source": [
        "early_stopping = EarlyStopping(\n",
        "    monitor = 'val_accuracy',\n",
        "    patience =2,\n",
        "    verbose = 0,\n",
        "    mode = 'max',\n",
        "    restore_best_weights = True)\n",
        "\n",
        "checkpoint = ModelCheckpoint(\n",
        "    filepath = 'model.hdf5',\n",
        "    verbose = 0,\n",
        "    mode = 'auto',\n",
        "    save_best_only = True,\n",
        "    monitor='val_loss')\n",
        "    \n",
        "if not os.path.exists(\"model.hdf5\"):\n",
        "    model = build_model(num_tag)\n",
        "        \n",
        "    history = model.fit(\n",
        "        x_train,\n",
        "        np.array(y_train),\n",
        "        validation_split =0.1,\n",
        "        batch_size = 64,\n",
        "        epochs = 10,\n",
        "        callbacks=[early_stopping, checkpoint]\n",
        "    )\n",
        "else:\n",
        "    model = build_model(num_tag)\n",
        "    model.load_weights(\"model.hdf5\")"
      ],
      "metadata": {
        "colab": {
          "base_uri": "https://localhost:8080/"
        },
        "id": "ACkAxcBijH5h",
        "outputId": "266eeb81-dc8c-40e2-8f08-aa0f303eb332"
      },
      "execution_count": 99,
      "outputs": [
        {
          "output_type": "stream",
          "name": "stdout",
          "text": [
            "Model: \"model_5\"\n",
            "_________________________________________________________________\n",
            " Layer (type)                Output Shape              Param #   \n",
            "=================================================================\n",
            " input_6 (InputLayer)        [(None, 104)]             0         \n",
            "                                                                 \n",
            " embedding_5 (Embedding)     (None, 104, 40)           1407200   \n",
            "                                                                 \n",
            " dropout_5 (Dropout)         (None, 104, 40)           0         \n",
            "                                                                 \n",
            " bidirectional_5 (Bidirectio  (None, 104, 100)         36400     \n",
            " nal)                                                            \n",
            "                                                                 \n",
            " time_distributed_5 (TimeDis  (None, 104, 18)          1818      \n",
            " tributed)                                                       \n",
            "                                                                 \n",
            "=================================================================\n",
            "Total params: 1,445,418\n",
            "Trainable params: 1,445,418\n",
            "Non-trainable params: 0\n",
            "_________________________________________________________________\n",
            "Epoch 1/10\n",
            "574/574 [==============================] - 178s 302ms/step - loss: 0.2430 - accuracy: 0.9512 - val_loss: 0.0871 - val_accuracy: 0.9746\n",
            "Epoch 2/10\n",
            "574/574 [==============================] - 170s 296ms/step - loss: 0.0614 - accuracy: 0.9824 - val_loss: 0.0416 - val_accuracy: 0.9892\n",
            "Epoch 3/10\n",
            "574/574 [==============================] - 168s 292ms/step - loss: 0.0312 - accuracy: 0.9916 - val_loss: 0.0292 - val_accuracy: 0.9919\n",
            "Epoch 4/10\n",
            "574/574 [==============================] - 170s 296ms/step - loss: 0.0228 - accuracy: 0.9935 - val_loss: 0.0265 - val_accuracy: 0.9923\n",
            "Epoch 5/10\n",
            "574/574 [==============================] - 171s 297ms/step - loss: 0.0189 - accuracy: 0.9944 - val_loss: 0.0251 - val_accuracy: 0.9926\n",
            "Epoch 6/10\n",
            "574/574 [==============================] - 170s 297ms/step - loss: 0.0164 - accuracy: 0.9951 - val_loss: 0.0248 - val_accuracy: 0.9927\n",
            "Epoch 7/10\n",
            "574/574 [==============================] - 170s 296ms/step - loss: 0.0145 - accuracy: 0.9955 - val_loss: 0.0248 - val_accuracy: 0.9928\n",
            "Epoch 8/10\n",
            "574/574 [==============================] - 170s 295ms/step - loss: 0.0130 - accuracy: 0.9960 - val_loss: 0.0251 - val_accuracy: 0.9928\n",
            "Epoch 9/10\n",
            "574/574 [==============================] - 170s 296ms/step - loss: 0.0118 - accuracy: 0.9963 - val_loss: 0.0256 - val_accuracy: 0.9928\n",
            "Epoch 10/10\n",
            "574/574 [==============================] - 172s 299ms/step - loss: 0.0107 - accuracy: 0.9966 - val_loss: 0.0265 - val_accuracy: 0.9928\n"
          ]
        }
      ]
    },
    {
      "cell_type": "markdown",
      "source": [
        "# Evaluate"
      ],
      "metadata": {
        "id": "qad2N0f4mCTP"
      }
    },
    {
      "cell_type": "code",
      "source": [
        "# Test với toàn bộ tập test\n",
        "y_pred = model.predict(x_test)\n",
        "\n",
        "# Get max softmax value for each words\n",
        "y_pred = np.argmax(y_pred, axis=-1)\n",
        "# Mapping to label name\n",
        "y_pred = [[idx2tag[i] for i in row] for row in y_pred]\n",
        "# Remove PAD\n",
        "y_pred = [[w for w in s if w != 'PAD'] for s in y_pred]\n",
        "\n",
        "# Get max value for each word in test label\n",
        "y_test_true = np.argmax(y_test, -1)\n",
        "# Mapping to label name\n",
        "y_test_true = [[idx2tag[i] for i in row] for row in y_test_true]\n",
        "# Remove PAD\n",
        "y_test_true = [[w for w in s if w != 'PAD'] for s in y_test_true]\n",
        "\n",
        "# Make y_pred and y_test_true has same shape\n",
        "for i in range(len(y_pred)):\n",
        "    l1 = [*map(len, y_test_true)]\n",
        "    l2 = [*map(len, y_pred)]\n",
        "    if l1[i] != l2[i]:\n",
        "        minlen = min(l1[i], l2[i])\n",
        "        y_test_true[i] = y_test_true[i][:minlen]\n",
        "        y_pred[i] = y_pred[i][:minlen]\n",
        "\n",
        "# Kiểm thử Precision, Recall và F1-Score\n",
        "k = precision_score(y_test_true, y_pred)\n",
        "print(\"Precision-score is : {:.1%}\".format(precision_score(y_test_true, y_pred)))\n",
        "print(\"Recall-score is : {:.1%}\".format(recall_score(y_test_true, y_pred)))\n",
        "print(\"F1-score is : {:.1%}\".format(f1_score(y_test_true, y_pred)))"
      ],
      "metadata": {
        "colab": {
          "base_uri": "https://localhost:8080/"
        },
        "id": "z_9pWxtVo8IT",
        "outputId": "a29aea2f-1a5e-4e42-8f8c-6a34e6187512"
      },
      "execution_count": 100,
      "outputs": [
        {
          "output_type": "stream",
          "name": "stdout",
          "text": [
            "Precision-score is : 80.3%\n",
            "Recall-score is : 80.0%\n",
            "F1-score is : 80.2%\n"
          ]
        }
      ]
    },
    {
      "cell_type": "code",
      "source": [
        "from sklearn import metrics\n",
        "from sklearn.preprocessing import MultiLabelBinarizer\n",
        "\n",
        "labels = list(set(df['Tag']))\n",
        "\n",
        "# group B and I results\n",
        "sorted_labels = sorted(\n",
        "    labels,\n",
        "    key=lambda name: (name[1:], name[0])\n",
        ")\n",
        "\n",
        "flat_y_test_true = [t for s in y_test_true for t in s]\n",
        "flat_y_pred = [t for s in y_pred for t in s]\n",
        "\n",
        "report = metrics.classification_report(flat_y_test_true, flat_y_pred, labels=sorted_labels, digits=3, zero_division=0)#, output_dict=True)\n",
        "print(report)"
      ],
      "metadata": {
        "colab": {
          "base_uri": "https://localhost:8080/"
        },
        "id": "MgEksyHYootc",
        "outputId": "2030081a-c520-48be-b4c3-4baf859e229c"
      },
      "execution_count": 101,
      "outputs": [
        {
          "output_type": "stream",
          "name": "stdout",
          "text": [
            "              precision    recall  f1-score   support\n",
            "\n",
            "           O      0.987     0.993     0.990    132315\n",
            "       B-art      0.500     0.018     0.034        56\n",
            "       I-art      0.000     0.000     0.000        39\n",
            "       B-eve      0.778     0.149     0.250        47\n",
            "       I-eve      0.286     0.049     0.083        41\n",
            "       B-geo      0.849     0.871     0.860      5598\n",
            "       I-geo      0.813     0.737     0.773      1083\n",
            "       B-gpe      0.957     0.937     0.947      2311\n",
            "       I-gpe      1.000     0.364     0.533        22\n",
            "       B-nat      0.750     0.115     0.200        26\n",
            "       I-nat      0.000     0.000     0.000         4\n",
            "       B-org      0.796     0.698     0.744      3039\n",
            "       I-org      0.771     0.783     0.777      2425\n",
            "       B-per      0.849     0.794     0.820      2565\n",
            "       I-per      0.839     0.872     0.855      2609\n",
            "       B-tim      0.905     0.877     0.891      3077\n",
            "       I-tim      0.803     0.713     0.755      1024\n",
            "\n",
            "    accuracy                          0.966    156281\n",
            "   macro avg      0.699     0.528     0.560    156281\n",
            "weighted avg      0.965     0.966     0.965    156281\n",
            "\n"
          ]
        }
      ]
    },
    {
      "cell_type": "code",
      "source": [
        "import nltk\n",
        "from nltk.tokenize import word_tokenize\n",
        "nltk.download('punkt')\n",
        "\n",
        "def predict_ner(model, sentence, word2idx, idx2tag):\n",
        "    sent_token = word_tokenize(sentence)\n",
        "\n",
        "    # Chuyển câu về dạng vector of index\n",
        "    x = []\n",
        "    for w in sent_token:\n",
        "        if w in word2idx:\n",
        "            x+=[word2idx[w]]\n",
        "        else:\n",
        "            x.append(word2idx['UNK'])\n",
        "\n",
        "    # Padding các câu về max_len\n",
        "    x = pad_sequences(maxlen=max_len, sequences=[x], padding=\"post\", value=word2idx[\"PAD\"])\n",
        "\n",
        "    # Predict\n",
        "    y_pred = model.predict(x)\n",
        "\n",
        "    # Get max softmax value for each words\n",
        "    y_pred = np.argmax(y_pred, axis=-1)\n",
        "    # Mapping to label name\n",
        "    y_pred = [idx2tag[i] for i in y_pred[0]]\n",
        "    # Remove PAD\n",
        "    y_pred = [w for w in y_pred if w != 'PAD']\n",
        "\n",
        "    return zip(sent_token, y_pred)"
      ],
      "metadata": {
        "colab": {
          "base_uri": "https://localhost:8080/"
        },
        "id": "4nPvmyw5gTEp",
        "outputId": "4d9afb13-583d-4c31-f59e-f52dda87eb23"
      },
      "execution_count": 102,
      "outputs": [
        {
          "output_type": "stream",
          "name": "stdout",
          "text": [
            "[nltk_data] Downloading package punkt to /root/nltk_data...\n",
            "[nltk_data]   Package punkt is already up-to-date!\n"
          ]
        }
      ]
    },
    {
      "cell_type": "code",
      "source": [
        "#@title Test with Input string { vertical-output: true, form-width: \"50%\", display-mode: \"both\" }\n",
        "\n",
        "input_text = \"He says Andrew Jeffrey  cannot block lawsuit from accuser Virginia on grounds she no longer lives in US.\" #@param [] {allow-input: true}\n",
        "\n",
        "#@markdown ---\n",
        "\n",
        "result = [*predict_ner(model, input_text, word2idx, idx2tag)]\n",
        "filter_result = filter(lambda w: w[1]!='O', result)\n",
        "\n",
        "print(\"=========== All NER detected ===========\")\n",
        "print(pd.DataFrame(filter_result, columns =['Word', 'Label']))\n",
        "\n",
        "print(\"\\n=========== Result ===========\")\n",
        "pd.DataFrame(result, columns =['Word', 'Label']).T"
      ],
      "metadata": {
        "colab": {
          "base_uri": "https://localhost:8080/",
          "height": 332
        },
        "id": "EYCeFSYRoOyr",
        "outputId": "8e10c8ef-f5a9-45b0-8caf-894284b9802b"
      },
      "execution_count": 103,
      "outputs": [
        {
          "output_type": "stream",
          "name": "stdout",
          "text": [
            "=========== All NER detected ===========\n",
            "       Word  Label\n",
            "0    Andrew  B-per\n",
            "1   Jeffrey  I-per\n",
            "2  Virginia  B-geo\n",
            "3        US  B-geo\n",
            "\n",
            "=========== Result ===========\n"
          ]
        },
        {
          "output_type": "execute_result",
          "data": {
            "text/html": [
              "\n",
              "  <div id=\"df-c6e192a1-6673-4f16-b1d6-001b4ab8be1d\">\n",
              "    <div class=\"colab-df-container\">\n",
              "      <div>\n",
              "<style scoped>\n",
              "    .dataframe tbody tr th:only-of-type {\n",
              "        vertical-align: middle;\n",
              "    }\n",
              "\n",
              "    .dataframe tbody tr th {\n",
              "        vertical-align: top;\n",
              "    }\n",
              "\n",
              "    .dataframe thead th {\n",
              "        text-align: right;\n",
              "    }\n",
              "</style>\n",
              "<table border=\"1\" class=\"dataframe\">\n",
              "  <thead>\n",
              "    <tr style=\"text-align: right;\">\n",
              "      <th></th>\n",
              "      <th>0</th>\n",
              "      <th>1</th>\n",
              "      <th>2</th>\n",
              "      <th>3</th>\n",
              "      <th>4</th>\n",
              "      <th>5</th>\n",
              "      <th>6</th>\n",
              "      <th>7</th>\n",
              "      <th>8</th>\n",
              "      <th>9</th>\n",
              "      <th>10</th>\n",
              "      <th>11</th>\n",
              "      <th>12</th>\n",
              "      <th>13</th>\n",
              "      <th>14</th>\n",
              "      <th>15</th>\n",
              "      <th>16</th>\n",
              "      <th>17</th>\n",
              "      <th>18</th>\n",
              "      <th>19</th>\n",
              "    </tr>\n",
              "  </thead>\n",
              "  <tbody>\n",
              "    <tr>\n",
              "      <th>Word</th>\n",
              "      <td>He</td>\n",
              "      <td>says</td>\n",
              "      <td>Andrew</td>\n",
              "      <td>Jeffrey</td>\n",
              "      <td>can</td>\n",
              "      <td>not</td>\n",
              "      <td>block</td>\n",
              "      <td>lawsuit</td>\n",
              "      <td>from</td>\n",
              "      <td>accuser</td>\n",
              "      <td>Virginia</td>\n",
              "      <td>on</td>\n",
              "      <td>grounds</td>\n",
              "      <td>she</td>\n",
              "      <td>no</td>\n",
              "      <td>longer</td>\n",
              "      <td>lives</td>\n",
              "      <td>in</td>\n",
              "      <td>US</td>\n",
              "      <td>.</td>\n",
              "    </tr>\n",
              "    <tr>\n",
              "      <th>Label</th>\n",
              "      <td>O</td>\n",
              "      <td>O</td>\n",
              "      <td>B-per</td>\n",
              "      <td>I-per</td>\n",
              "      <td>O</td>\n",
              "      <td>O</td>\n",
              "      <td>O</td>\n",
              "      <td>O</td>\n",
              "      <td>O</td>\n",
              "      <td>O</td>\n",
              "      <td>B-geo</td>\n",
              "      <td>O</td>\n",
              "      <td>O</td>\n",
              "      <td>O</td>\n",
              "      <td>O</td>\n",
              "      <td>O</td>\n",
              "      <td>O</td>\n",
              "      <td>O</td>\n",
              "      <td>B-geo</td>\n",
              "      <td>O</td>\n",
              "    </tr>\n",
              "  </tbody>\n",
              "</table>\n",
              "</div>\n",
              "      <button class=\"colab-df-convert\" onclick=\"convertToInteractive('df-c6e192a1-6673-4f16-b1d6-001b4ab8be1d')\"\n",
              "              title=\"Convert this dataframe to an interactive table.\"\n",
              "              style=\"display:none;\">\n",
              "        \n",
              "  <svg xmlns=\"http://www.w3.org/2000/svg\" height=\"24px\"viewBox=\"0 0 24 24\"\n",
              "       width=\"24px\">\n",
              "    <path d=\"M0 0h24v24H0V0z\" fill=\"none\"/>\n",
              "    <path d=\"M18.56 5.44l.94 2.06.94-2.06 2.06-.94-2.06-.94-.94-2.06-.94 2.06-2.06.94zm-11 1L8.5 8.5l.94-2.06 2.06-.94-2.06-.94L8.5 2.5l-.94 2.06-2.06.94zm10 10l.94 2.06.94-2.06 2.06-.94-2.06-.94-.94-2.06-.94 2.06-2.06.94z\"/><path d=\"M17.41 7.96l-1.37-1.37c-.4-.4-.92-.59-1.43-.59-.52 0-1.04.2-1.43.59L10.3 9.45l-7.72 7.72c-.78.78-.78 2.05 0 2.83L4 21.41c.39.39.9.59 1.41.59.51 0 1.02-.2 1.41-.59l7.78-7.78 2.81-2.81c.8-.78.8-2.07 0-2.86zM5.41 20L4 18.59l7.72-7.72 1.47 1.35L5.41 20z\"/>\n",
              "  </svg>\n",
              "      </button>\n",
              "      \n",
              "  <style>\n",
              "    .colab-df-container {\n",
              "      display:flex;\n",
              "      flex-wrap:wrap;\n",
              "      gap: 12px;\n",
              "    }\n",
              "\n",
              "    .colab-df-convert {\n",
              "      background-color: #E8F0FE;\n",
              "      border: none;\n",
              "      border-radius: 50%;\n",
              "      cursor: pointer;\n",
              "      display: none;\n",
              "      fill: #1967D2;\n",
              "      height: 32px;\n",
              "      padding: 0 0 0 0;\n",
              "      width: 32px;\n",
              "    }\n",
              "\n",
              "    .colab-df-convert:hover {\n",
              "      background-color: #E2EBFA;\n",
              "      box-shadow: 0px 1px 2px rgba(60, 64, 67, 0.3), 0px 1px 3px 1px rgba(60, 64, 67, 0.15);\n",
              "      fill: #174EA6;\n",
              "    }\n",
              "\n",
              "    [theme=dark] .colab-df-convert {\n",
              "      background-color: #3B4455;\n",
              "      fill: #D2E3FC;\n",
              "    }\n",
              "\n",
              "    [theme=dark] .colab-df-convert:hover {\n",
              "      background-color: #434B5C;\n",
              "      box-shadow: 0px 1px 3px 1px rgba(0, 0, 0, 0.15);\n",
              "      filter: drop-shadow(0px 1px 2px rgba(0, 0, 0, 0.3));\n",
              "      fill: #FFFFFF;\n",
              "    }\n",
              "  </style>\n",
              "\n",
              "      <script>\n",
              "        const buttonEl =\n",
              "          document.querySelector('#df-c6e192a1-6673-4f16-b1d6-001b4ab8be1d button.colab-df-convert');\n",
              "        buttonEl.style.display =\n",
              "          google.colab.kernel.accessAllowed ? 'block' : 'none';\n",
              "\n",
              "        async function convertToInteractive(key) {\n",
              "          const element = document.querySelector('#df-c6e192a1-6673-4f16-b1d6-001b4ab8be1d');\n",
              "          const dataTable =\n",
              "            await google.colab.kernel.invokeFunction('convertToInteractive',\n",
              "                                                     [key], {});\n",
              "          if (!dataTable) return;\n",
              "\n",
              "          const docLinkHtml = 'Like what you see? Visit the ' +\n",
              "            '<a target=\"_blank\" href=https://colab.research.google.com/notebooks/data_table.ipynb>data table notebook</a>'\n",
              "            + ' to learn more about interactive tables.';\n",
              "          element.innerHTML = '';\n",
              "          dataTable['output_type'] = 'display_data';\n",
              "          await google.colab.output.renderOutput(dataTable, element);\n",
              "          const docLink = document.createElement('div');\n",
              "          docLink.innerHTML = docLinkHtml;\n",
              "          element.appendChild(docLink);\n",
              "        }\n",
              "      </script>\n",
              "    </div>\n",
              "  </div>\n",
              "  "
            ],
            "text/plain": [
              "       0     1       2        3    4    5   ...  14      15     16  17     18 19\n",
              "Word   He  says  Andrew  Jeffrey  can  not  ...  no  longer  lives  in     US  .\n",
              "Label   O     O   B-per    I-per    O    O  ...   O       O      O   O  B-geo  O\n",
              "\n",
              "[2 rows x 20 columns]"
            ]
          },
          "metadata": {},
          "execution_count": 103
        }
      ]
    }
  ]
}